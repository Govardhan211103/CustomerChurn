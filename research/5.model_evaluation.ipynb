{
 "cells": [
  {
   "cell_type": "code",
   "execution_count": 3,
   "metadata": {},
   "outputs": [
    {
     "data": {
      "text/plain": [
       "'c:\\\\Users\\\\MEDHA TRUST\\\\Documents\\\\Govardhan\\\\ML\\\\github\\\\CustomerChurn\\\\CustomerChurn\\\\research'"
      ]
     },
     "execution_count": 3,
     "metadata": {},
     "output_type": "execute_result"
    }
   ],
   "source": [
    "import os\n",
    "%pwd"
   ]
  },
  {
   "cell_type": "code",
   "execution_count": 4,
   "metadata": {},
   "outputs": [
    {
     "data": {
      "text/plain": [
       "'c:\\\\Users\\\\MEDHA TRUST\\\\Documents\\\\Govardhan\\\\ML\\\\github\\\\CustomerChurn\\\\CustomerChurn'"
      ]
     },
     "execution_count": 4,
     "metadata": {},
     "output_type": "execute_result"
    }
   ],
   "source": [
    "## command should be in CustomerChurn directory\n",
    "os.chdir('../')\n",
    "%pwd"
   ]
  },
  {
   "cell_type": "code",
   "execution_count": 5,
   "metadata": {},
   "outputs": [],
   "source": [
    "from pathlib import Path\n",
    "import joblib\n",
    "\n",
    "model = joblib.load(Path('artifacts/model/model.joblib'))\n"
   ]
  },
  {
   "cell_type": "code",
   "execution_count": 6,
   "metadata": {},
   "outputs": [],
   "source": [
    "from dataclasses import dataclass\n",
    "from pathlib import Path\n",
    "\n",
    "@dataclass\n",
    "class EvaluationConfig:\n",
    "    model_path : Path\n",
    "    test_data_path : Path\n",
    "    all_params : dict\n",
    "    target_column : str\n",
    "    scores_path : Path\n",
    "    "
   ]
  },
  {
   "cell_type": "code",
   "execution_count": 7,
   "metadata": {},
   "outputs": [],
   "source": [
    "from ChurnPrediction.constants import *\n",
    "from ChurnPrediction.utils.common import *\n"
   ]
  },
  {
   "cell_type": "code",
   "execution_count": 19,
   "metadata": {},
   "outputs": [],
   "source": [
    "class ConfigurationManager:\n",
    "    def __init__(\n",
    "            self,\n",
    "            config_filepath = CONFIG_FILE_PATH,\n",
    "            params_filepath = PARAMS_FILE_PATH,\n",
    "            schema_filepath = SCHEMA_FILE_PATH\n",
    "    ):\n",
    "        self.config = read_yaml(config_filepath)\n",
    "        self.params = read_yaml(params_filepath)\n",
    "        self.schema = read_yaml(schema_filepath)\n",
    "\n",
    "        create_directory([self.config.artifacts_root])\n",
    "\n",
    "    def get_evaluation_config(self) -> EvaluationConfig:\n",
    "        config = self.config.model_evaluation\n",
    "        params = self.params.LogisticRegression\n",
    "        schema = self.schema.TARGET_COLUMN\n",
    "        evaluation_config = EvaluationConfig(\n",
    "            model_path = config.model_path,\n",
    "            test_data_path = config.test_data_path,\n",
    "            all_params = params,\n",
    "            target_column = list(schema.keys())[0],\n",
    "            scores_path = config.scores_path\n",
    "        )\n",
    "\n",
    "        return evaluation_config\n",
    "\n"
   ]
  },
  {
   "cell_type": "code",
   "execution_count": 24,
   "metadata": {},
   "outputs": [],
   "source": [
    "import joblib\n",
    "from sklearn.metrics import accuracy_score, precision_score, recall_score, f1_score\n",
    "from ChurnPrediction.utils.common import *\n",
    "import pandas as pd\n",
    "\n",
    "class Evaluation:\n",
    "    def __init__(self, config: EvaluationConfig):\n",
    "        self.config = config\n",
    "\n",
    "    def evaluate_model(self, model, X_test, y_test):\n",
    "\n",
    "        # Make predictions on the test data\n",
    "        y_pred = model.predict(X_test)\n",
    "\n",
    "        # Calculate evaluation scores\n",
    "        scores = {\n",
    "            \"accuracy\": accuracy_score(y_test, y_pred),\n",
    "            \"precision\": precision_score(y_test, y_pred),\n",
    "            \"recall\": recall_score(y_test, y_pred),\n",
    "            \"f1_score\": f1_score(y_test, y_pred)\n",
    "        }\n",
    "\n",
    "        return scores\n",
    "    \n",
    "    def evaluation(self):\n",
    "        try:\n",
    "            model = joblib.load(self.config.model_path)\n",
    "            test_data = pd.read_csv(self.config.test_data_path)\n",
    "        \n",
    "            # Separate features and labels\n",
    "            X_test = test_data.drop(columns=[self.config.target_column], axis = 1)\n",
    "            y_test = test_data[self.config.target_column]\n",
    "\n",
    "            scores = self.evaluate_model(model, X_test, y_test)\n",
    "\n",
    "            # Save the scores to a JSON file\n",
    "            save_json(Path(self.config.scores_path), scores)\n",
    "\n",
    "        except Exception as e:\n",
    "            raise e        "
   ]
  },
  {
   "cell_type": "code",
   "execution_count": 25,
   "metadata": {},
   "outputs": [
    {
     "name": "stdout",
     "output_type": "stream",
     "text": [
      "[2023-10-21 11:33:40,105: INFO: common: yaml file: config\\config.yaml loaded successfully]\n",
      "[2023-10-21 11:33:40,105: INFO: common: yaml file: params.yaml loaded successfully]\n",
      "[2023-10-21 11:33:40,119: INFO: common: yaml file: schema.yaml loaded successfully]\n",
      "[2023-10-21 11:33:40,127: INFO: common: directory: artifacts created successfully]\n",
      "[2023-10-21 11:33:40,167: INFO: common: json file: scores.json saved successfully]\n"
     ]
    }
   ],
   "source": [
    "try:\n",
    "    config = ConfigurationManager()\n",
    "    evaluation_config = config.get_evaluation_config()\n",
    "    model_evaluator = Evaluation(evaluation_config)\n",
    "    model_evaluator.evaluation()\n",
    "\n",
    "except Exception as e:\n",
    "    raise e"
   ]
  },
  {
   "cell_type": "code",
   "execution_count": null,
   "metadata": {},
   "outputs": [],
   "source": []
  }
 ],
 "metadata": {
  "kernelspec": {
   "display_name": "Python 3",
   "language": "python",
   "name": "python3"
  },
  "language_info": {
   "codemirror_mode": {
    "name": "ipython",
    "version": 3
   },
   "file_extension": ".py",
   "mimetype": "text/x-python",
   "name": "python",
   "nbconvert_exporter": "python",
   "pygments_lexer": "ipython3",
   "version": "3.9.0"
  }
 },
 "nbformat": 4,
 "nbformat_minor": 2
}
