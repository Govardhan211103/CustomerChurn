{
 "cells": [
  {
   "cell_type": "code",
   "execution_count": 4,
   "metadata": {},
   "outputs": [
    {
     "data": {
      "text/plain": [
       "'c:\\\\Users\\\\MEDHA TRUST\\\\Documents\\\\Govardhan\\\\ML\\\\github\\\\CustomerChurn\\\\CustomerChurn\\\\research'"
      ]
     },
     "execution_count": 4,
     "metadata": {},
     "output_type": "execute_result"
    }
   ],
   "source": [
    "import os\n",
    "%pwd"
   ]
  },
  {
   "cell_type": "code",
   "execution_count": 5,
   "metadata": {},
   "outputs": [
    {
     "data": {
      "text/plain": [
       "'c:\\\\Users\\\\MEDHA TRUST\\\\Documents\\\\Govardhan\\\\ML\\\\github\\\\CustomerChurn\\\\CustomerChurn'"
      ]
     },
     "execution_count": 5,
     "metadata": {},
     "output_type": "execute_result"
    }
   ],
   "source": [
    "## command should be in CustomerChurn directory\n",
    "os.chdir('../')\n",
    "%pwd"
   ]
  },
  {
   "cell_type": "code",
   "execution_count": 14,
   "metadata": {},
   "outputs": [],
   "source": [
    "from dataclasses import dataclass\n",
    "from pathlib import Path\n",
    "\n",
    "@dataclass\n",
    "class DataValidationConfig:\n",
    "    root_dir: Path\n",
    "    STATUS_FILE: str\n",
    "    data_dir: Path\n",
    "    schema: dict\n"
   ]
  },
  {
   "cell_type": "code",
   "execution_count": 15,
   "metadata": {},
   "outputs": [],
   "source": [
    "from ChurnPrediction.constants import *\n",
    "from ChurnPrediction.utils.common import read_yaml, create_directory"
   ]
  },
  {
   "cell_type": "code",
   "execution_count": 16,
   "metadata": {},
   "outputs": [],
   "source": [
    "class ConfigurationManager:\n",
    "    def __init__(\n",
    "            self,\n",
    "            config_filepath = CONFIG_FILE_PATH,\n",
    "            params_filepath = PARAMS_FILE_PATH,\n",
    "            schema_filepath = SCHEMA_FILE_PATH\n",
    "    ):\n",
    "        self.config = read_yaml(config_filepath)\n",
    "        self.params = read_yaml(params_filepath)\n",
    "        self.schema = read_yaml(schema_filepath)\n",
    "\n",
    "        create_directory([self.config.artifacts_root])\n",
    "\n",
    "    def get_data_validation_config(self) -> DataValidationConfig:\n",
    "        config = self.config.data_validation\n",
    "        schema = self.schema.COLUMNS\n",
    "\n",
    "        create_directory([config.root_dir])\n",
    "\n",
    "        data_validation_config = DataValidationConfig(\n",
    "            root_dir = config.root_dir,\n",
    "            data_dir = config.data_dir,\n",
    "            STATUS_FILE = config.STATUS_FILE,\n",
    "            schema = schema\n",
    "        )\n",
    "\n",
    "        return data_validation_config\n",
    "    "
   ]
  },
  {
   "cell_type": "code",
   "execution_count": 21,
   "metadata": {},
   "outputs": [],
   "source": [
    "import os\n",
    "from ChurnPrediction import logger\n",
    "import pandas as pd"
   ]
  },
  {
   "cell_type": "code",
   "execution_count": 36,
   "metadata": {},
   "outputs": [],
   "source": [
    "class DataValidation:\n",
    "    def __init__(self, config: DataValidationConfig):\n",
    "        self.config = config\n",
    "\n",
    "    def validate_all_columns(self) -> bool:\n",
    "        try:\n",
    "            logger.info(\"DataValidation started\")\n",
    "            validation_status = None\n",
    "            data = pd.read_csv(self.config.data_dir)\n",
    "            all_cols = list(data.drop(['Churn'], axis = 1).columns)\n",
    "            all_schema_cols = self.config.schema\n",
    "\n",
    "            for col in all_cols:\n",
    "                if (col not in all_schema_cols.keys()) or (all_schema_cols[col] != data[col].dtype):\n",
    "                    #logger.info(f\"{col} :  {all_schema_cols[col]} !=  {data[col].dtype}\")\n",
    "                    validation_status = False\n",
    "                    with open(self.config.STATUS_FILE, 'w') as f:\n",
    "                        f.write(f'Validation status: {validation_status}')\n",
    "\n",
    "                else:\n",
    "                    #logger.info(f\"{col} :  {all_schema_cols[col]} ==  {data[col].dtype}\")\n",
    "                    validation_status = True\n",
    "                    with open(self.config.STATUS_FILE, 'w') as f:\n",
    "                        f.write(f'Validation status: {validation_status}')\n",
    "                    \n",
    "            return validation_status\n",
    "            \n",
    "        except Exception as  e:\n",
    "            raise e"
   ]
  },
  {
   "cell_type": "code",
   "execution_count": 37,
   "metadata": {},
   "outputs": [
    {
     "name": "stdout",
     "output_type": "stream",
     "text": [
      "[2023-10-15 07:13:24,738: INFO: common: yaml file: config\\config.yaml loaded successfully]\n",
      "[2023-10-15 07:13:24,738: INFO: common: yaml file: params.yaml loaded successfully]\n",
      "[2023-10-15 07:13:24,738: INFO: common: yaml file: schema.yaml loaded successfully]\n",
      "[2023-10-15 07:13:24,738: INFO: common: directory: artifacts created successfully]\n",
      "[2023-10-15 07:13:24,751: INFO: common: directory: artifacts/data_validation created successfully]\n",
      "[2023-10-15 07:13:24,752: INFO: 4094831145: DataValidation started]\n"
     ]
    }
   ],
   "source": [
    "try:\n",
    "    config = ConfigurationManager()\n",
    "    data_validation_config = config.get_data_validation_config()\n",
    "    data_validation = DataValidation(config = data_validation_config)\n",
    "    data_validation.validate_all_columns()\n",
    "\n",
    "except Exception as e:\n",
    "    raise e"
   ]
  },
  {
   "cell_type": "code",
   "execution_count": null,
   "metadata": {},
   "outputs": [],
   "source": []
  }
 ],
 "metadata": {
  "kernelspec": {
   "display_name": "Python 3",
   "language": "python",
   "name": "python3"
  },
  "language_info": {
   "codemirror_mode": {
    "name": "ipython",
    "version": 3
   },
   "file_extension": ".py",
   "mimetype": "text/x-python",
   "name": "python",
   "nbconvert_exporter": "python",
   "pygments_lexer": "ipython3",
   "version": "3.9.0"
  }
 },
 "nbformat": 4,
 "nbformat_minor": 2
}
