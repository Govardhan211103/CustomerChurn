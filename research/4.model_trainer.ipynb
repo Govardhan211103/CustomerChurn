{
 "cells": [
  {
   "cell_type": "code",
   "execution_count": 1,
   "metadata": {},
   "outputs": [
    {
     "data": {
      "text/plain": [
       "'c:\\\\Users\\\\MEDHA TRUST\\\\Documents\\\\Govardhan\\\\ML\\\\github\\\\CustomerChurn\\\\CustomerChurn\\\\research'"
      ]
     },
     "execution_count": 1,
     "metadata": {},
     "output_type": "execute_result"
    }
   ],
   "source": [
    "import os\n",
    "%pwd"
   ]
  },
  {
   "cell_type": "code",
   "execution_count": 2,
   "metadata": {},
   "outputs": [
    {
     "data": {
      "text/plain": [
       "'c:\\\\Users\\\\MEDHA TRUST\\\\Documents\\\\Govardhan\\\\ML\\\\github\\\\CustomerChurn\\\\CustomerChurn'"
      ]
     },
     "execution_count": 2,
     "metadata": {},
     "output_type": "execute_result"
    }
   ],
   "source": [
    "## command should be in CustomerChurn directory\n",
    "os.chdir('../')\n",
    "%pwd"
   ]
  },
  {
   "cell_type": "code",
   "execution_count": 22,
   "metadata": {},
   "outputs": [],
   "source": [
    "from dataclasses import dataclass\n",
    "from pathlib import Path\n",
    "\n",
    "@dataclass(frozen = True)\n",
    "class ModelTrainerConfig:\n",
    "    root_dir: Path\n",
    "    train_data_path: Path\n",
    "    test_data_path: Path\n",
    "    model_path: Path\n",
    "    C: float\n",
    "    max_iter: int\n",
    "    penalty: str\n",
    "    solver: str\n",
    "    target_column: str\n"
   ]
  },
  {
   "cell_type": "code",
   "execution_count": null,
   "metadata": {},
   "outputs": [],
   "source": []
  },
  {
   "cell_type": "code",
   "execution_count": 31,
   "metadata": {},
   "outputs": [],
   "source": [
    "from ChurnPrediction.constants import *\n",
    "from ChurnPrediction.utils.common import read_yaml, create_directory\n",
    "\n",
    "class ConfigurationManager:\n",
    "    def __init__(\n",
    "            self,\n",
    "            config_filepath = CONFIG_FILE_PATH,\n",
    "            params_filepath = PARAMS_FILE_PATH,\n",
    "            schema_filepath = SCHEMA_FILE_PATH\n",
    "    ):\n",
    "        self.config = read_yaml(config_filepath)\n",
    "        self.params = read_yaml(params_filepath)\n",
    "        self.schema = read_yaml(schema_filepath)\n",
    "\n",
    "        create_directory([self.config.artifacts_root])\n",
    "\n",
    "    def get_model_trainer_config(self) -> ModelTrainerConfig:\n",
    "        config = self.config.model_trainer\n",
    "        params = self.params.LogisticRegression\n",
    "        schema = self.schema.TARGET_COLUMN\n",
    "\n",
    "        create_directory([config.root_dir])\n",
    "        \n",
    "        model_trainer_config = ModelTrainerConfig(\n",
    "            root_dir = config.root_dir,\n",
    "            train_data_path = config.train_data_path,\n",
    "            test_data_path = config.test_data_path,\n",
    "            model_path = config.model_path,\n",
    "            C = params.C,\n",
    "            max_iter = params.max_iter,\n",
    "            penalty = params.penalty,\n",
    "            solver = params.solver,\n",
    "            target_column = list(schema.keys())[0]\n",
    "        )\n",
    "\n",
    "        return model_trainer_config\n"
   ]
  },
  {
   "cell_type": "code",
   "execution_count": 37,
   "metadata": {},
   "outputs": [],
   "source": [
    "import pandas as pd\n",
    "import numpy as np\n",
    "from sklearn.linear_model import LogisticRegression\n",
    "from ChurnPrediction import logger\n",
    "import joblib\n",
    "import os"
   ]
  },
  {
   "cell_type": "code",
   "execution_count": 38,
   "metadata": {},
   "outputs": [],
   "source": [
    "class ModelTrainer:\n",
    "    def __init__(self, config: ModelTrainerConfig):\n",
    "        self.config = config\n",
    "\n",
    "    def train(self):\n",
    "        train_data = pd.read_csv(self.config.train_data_path)\n",
    "        test_data = pd.read_csv(self.config.test_data_path)\n",
    "\n",
    "        train_X = train_data.drop([self.config.target_column], axis = 1)\n",
    "        train_y = np.ravel(train_data[[self.config.target_column]])\n",
    "        test_X = test_data.drop([self.config.target_column], axis = 1)\n",
    "        test_y = np.ravel(test_data[[self.config.target_column]])\n",
    "\n",
    "        model = LogisticRegression(\n",
    "            C = self.config.C,\n",
    "            max_iter = self.config.max_iter, \n",
    "            penalty = self.config.penalty, \n",
    "            solver = self.config.solver\n",
    "        )\n",
    "\n",
    "        model.fit(train_X, train_y)\n",
    "\n",
    "        joblib.dump(model, Path(self.config.model_path))\n",
    "\n",
    "\n",
    "        "
   ]
  },
  {
   "cell_type": "code",
   "execution_count": 39,
   "metadata": {},
   "outputs": [
    {
     "name": "stdout",
     "output_type": "stream",
     "text": [
      "[2023-10-16 00:50:41,150: INFO: common: yaml file: config\\config.yaml loaded successfully]\n",
      "[2023-10-16 00:50:41,160: INFO: common: yaml file: params.yaml loaded successfully]\n",
      "[2023-10-16 00:50:41,168: INFO: common: yaml file: schema.yaml loaded successfully]\n",
      "[2023-10-16 00:50:41,168: INFO: common: directory: artifacts created successfully]\n",
      "[2023-10-16 00:50:41,176: INFO: common: directory: artifacts/model created successfully]\n"
     ]
    }
   ],
   "source": [
    "try:\n",
    "    config = ConfigurationManager()\n",
    "    model_trainer_config = config.get_model_trainer_config()\n",
    "    model_trainer = ModelTrainer(config = model_trainer_config)\n",
    "    model_trainer.train()\n",
    "\n",
    "except Exception as e:\n",
    "    raise Exception"
   ]
  },
  {
   "cell_type": "code",
   "execution_count": null,
   "metadata": {},
   "outputs": [],
   "source": []
  }
 ],
 "metadata": {
  "kernelspec": {
   "display_name": "Python 3",
   "language": "python",
   "name": "python3"
  },
  "language_info": {
   "codemirror_mode": {
    "name": "ipython",
    "version": 3
   },
   "file_extension": ".py",
   "mimetype": "text/x-python",
   "name": "python",
   "nbconvert_exporter": "python",
   "pygments_lexer": "ipython3",
   "version": "3.9.0"
  }
 },
 "nbformat": 4,
 "nbformat_minor": 2
}
